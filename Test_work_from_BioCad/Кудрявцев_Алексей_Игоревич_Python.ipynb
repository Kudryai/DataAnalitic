{
  "cells": [
    {
      "cell_type": "markdown",
      "metadata": {
        "id": "2_DRkSy9t8X0"
      },
      "source": [
        "<center style=\"font-size: 26px\"> <b>Проверка уровня знаний Python</b></center>"
      ]
    },
    {
      "cell_type": "code",
      "execution_count": 1,
      "metadata": {
        "id": "QTomVY2pt8YS"
      },
      "outputs": [],
      "source": [
        "# обеспечиваем совместимость с Python 2 и 3\n",
        "from __future__ import (absolute_import, division, print_function, unicode_literals)\n",
        "\n",
        "# отключаем предупреждения дистрибутива Anaconda\n",
        "import warnings\n",
        "warnings.simplefilter('ignore')"
      ]
    },
    {
      "cell_type": "markdown",
      "metadata": {
        "id": "NaFUbK2it8Yh"
      },
      "source": [
        "### Практические задания:"
      ]
    },
    {
      "cell_type": "markdown",
      "metadata": {
        "id": "wejuYR7Qt8Yj"
      },
      "source": [
        "#### Загрузите датасет, который вы использовали в блоке задания Power BI как dataframe\n",
        "\n",
        "[Датасет с платформы ИНИД](https://www.data-in.ru/data-catalog/datasets/133/#dataset-overview)"
      ]
    },
    {
      "cell_type": "code",
      "execution_count": 3,
      "metadata": {
        "id": "z4CPYJqCufdN"
      },
      "outputs": [],
      "source": [
        "import pandas as pd\n",
        "\n",
        "dataframe = pd.read_excel('data.xlsx', sheet_name='Data')"
      ]
    },
    {
      "cell_type": "markdown",
      "metadata": {
        "id": "mJX9D_Bkt8Yo"
      },
      "source": [
        "#### 1. Выведете типы данных столбцов"
      ]
    },
    {
      "cell_type": "code",
      "execution_count": 4,
      "metadata": {
        "colab": {
          "base_uri": "https://localhost:8080/"
        },
        "id": "jOPaWI9Lt8Yq",
        "outputId": "5be9c7c3-c3ad-4223-c4e2-0f0d1a89a1f7",
        "scrolled": true
      },
      "outputs": [
        {
          "name": "stdout",
          "output_type": "stream",
          "text": [
            "<class 'pandas.core.frame.DataFrame'>\n",
            "RangeIndex: 219 entries, 0 to 218\n",
            "Data columns (total 30 columns):\n",
            " #   Column                                                  Non-Null Count  Dtype         \n",
            "---  ------                                                  --------------  -----         \n",
            " 0   Страна                                                  219 non-null    object        \n",
            " 1   Краткие обозначения                                     218 non-null    object        \n",
            " 2   Город                                                   129 non-null    object        \n",
            " 3   Дата \n",
            "поставки/\n",
            "новости                                 219 non-null    datetime64[ns]\n",
            " 4   Дата завершения (для случаев отправления персонала)     19 non-null     datetime64[ns]\n",
            " 5   Природа помощи (правительственная/неправительственная)  219 non-null    object        \n",
            " 6   Наборы тестов (кол-во)                                  22 non-null     float64       \n",
            " 7   Тест-системы/исследования (кол-во)                      55 non-null     float64       \n",
            " 8   Тесты (факт)                                            84 non-null     float64       \n",
            " 9   СИЗ (факт)                                              44 non-null     float64       \n",
            " 10  Мед. оборудование (факт)                                28 non-null     float64       \n",
            " 11  Медикаменты (факт)                                      23 non-null     float64       \n",
            " 12  Персонал (факт)                                         34 non-null     float64       \n",
            " 13  Вакцина (кол-во)                                        33 non-null     float64       \n",
            " 14  Марка вакцины                                           38 non-null     object        \n",
            " 15  Вакцина (первый компонент)                              8 non-null      float64       \n",
            " 16  Вакцина (второй компонент)                              8 non-null      float64       \n",
            " 17  Вакцина (факт)                                          38 non-null     float64       \n",
            " 18  Прочее (факт)                                           37 non-null     float64       \n",
            " 19  Карточка помощи \n",
            "(описание, текст)                      219 non-null    object        \n",
            " 20  Источник 1                                              219 non-null    object        \n",
            " 21  Источник 2                                              132 non-null    object        \n",
            " 22  Источник 3                                              75 non-null     object        \n",
            " 23  Роспотребнадзор                                         80 non-null     float64       \n",
            " 24  МЧС                                                     26 non-null     float64       \n",
            " 25  Минобороны                                              21 non-null     float64       \n",
            " 26  Минздрав                                                10 non-null     float64       \n",
            " 27  ФМБА                                                    2 non-null      float64       \n",
            " 28  Другие организации                                      77 non-null     object        \n",
            " 29  Международные \n",
            "организации                              7 non-null      object        \n",
            "dtypes: datetime64[ns](2), float64(17), object(11)\n",
            "memory usage: 51.5+ KB\n"
          ]
        }
      ],
      "source": [
        "dataframe.info()"
      ]
    },
    {
      "cell_type": "markdown",
      "metadata": {
        "id": "E3tPcJMmt8Y1"
      },
      "source": [
        "#### 3. Уберите из названий столбцов знаки переносов ('\\n')"
      ]
    },
    {
      "cell_type": "code",
      "execution_count": 5,
      "metadata": {
        "colab": {
          "base_uri": "https://localhost:8080/"
        },
        "id": "Kpm3-dkRt8Y3",
        "outputId": "40953e22-985d-48b5-c0ce-18954653c36f"
      },
      "outputs": [
        {
          "data": {
            "text/plain": [
              "['Страна',\n",
              " 'Краткие обозначения',\n",
              " 'Город',\n",
              " 'Дата поставки/новости',\n",
              " 'Дата завершения (для случаев отправления персонала)',\n",
              " 'Природа помощи (правительственная/неправительственная)',\n",
              " 'Наборы тестов (кол-во)',\n",
              " 'Тест-системы/исследования (кол-во)',\n",
              " 'Тесты (факт)',\n",
              " 'СИЗ (факт)',\n",
              " 'Мед. оборудование (факт)',\n",
              " 'Медикаменты (факт)',\n",
              " 'Персонал (факт)',\n",
              " 'Вакцина (кол-во)',\n",
              " 'Марка вакцины',\n",
              " 'Вакцина (первый компонент)',\n",
              " 'Вакцина (второй компонент)',\n",
              " 'Вакцина (факт)',\n",
              " 'Прочее (факт)',\n",
              " 'Карточка помощи (описание, текст)',\n",
              " 'Источник 1',\n",
              " 'Источник 2',\n",
              " 'Источник 3',\n",
              " 'Роспотребнадзор',\n",
              " 'МЧС',\n",
              " 'Минобороны',\n",
              " 'Минздрав',\n",
              " 'ФМБА',\n",
              " 'Другие организации',\n",
              " 'Международные организации']"
            ]
          },
          "execution_count": 5,
          "metadata": {},
          "output_type": "execute_result"
        }
      ],
      "source": [
        "dataframe.columns = dataframe.columns.str.replace('\\n', '')\n",
        "list(dataframe)"
      ]
    },
    {
      "cell_type": "markdown",
      "metadata": {
        "id": "RXtxb5Wqt8Y5"
      },
      "source": [
        "#### 4. Выведите таблицу, которая позволит просмотреть первую дату поставки и общее количество поставленной вакцины в рамках Марки вакцины и страны."
      ]
    },
    {
      "cell_type": "code",
      "execution_count": 6,
      "metadata": {
        "colab": {
          "base_uri": "https://localhost:8080/",
          "height": 771
        },
        "id": "6Z4hY8wBt8Y_",
        "outputId": "c5a8af48-c075-442c-ddb8-f7d8bd3cb9c8",
        "scrolled": true
      },
      "outputs": [
        {
          "data": {
            "text/html": [
              "\n",
              "  <div id=\"df-9a2ec5ce-ada4-4486-b677-7d09c7d350bc\">\n",
              "    <div class=\"colab-df-container\">\n",
              "      <div>\n",
              "<style scoped>\n",
              "    .dataframe tbody tr th:only-of-type {\n",
              "        vertical-align: middle;\n",
              "    }\n",
              "\n",
              "    .dataframe tbody tr th {\n",
              "        vertical-align: top;\n",
              "    }\n",
              "\n",
              "    .dataframe thead th {\n",
              "        text-align: right;\n",
              "    }\n",
              "</style>\n",
              "<table border=\"1\" class=\"dataframe\">\n",
              "  <thead>\n",
              "    <tr style=\"text-align: right;\">\n",
              "      <th></th>\n",
              "      <th>Марка вакцины</th>\n",
              "      <th>Страна</th>\n",
              "      <th>Первая дата поставки</th>\n",
              "      <th>Вакцина (кол-во)</th>\n",
              "    </tr>\n",
              "  </thead>\n",
              "  <tbody>\n",
              "    <tr>\n",
              "      <th>0</th>\n",
              "      <td>Спутник V</td>\n",
              "      <td>Абхазия</td>\n",
              "      <td>2020-02-02</td>\n",
              "      <td>2500.0</td>\n",
              "    </tr>\n",
              "    <tr>\n",
              "      <th>1</th>\n",
              "      <td>Спутник V</td>\n",
              "      <td>Азербайджан</td>\n",
              "      <td>2020-02-02</td>\n",
              "      <td>15000.0</td>\n",
              "    </tr>\n",
              "    <tr>\n",
              "      <th>2</th>\n",
              "      <td>Спутник V</td>\n",
              "      <td>Ангола</td>\n",
              "      <td>2020-02-02</td>\n",
              "      <td>50000.0</td>\n",
              "    </tr>\n",
              "    <tr>\n",
              "      <th>3</th>\n",
              "      <td>Спутник V</td>\n",
              "      <td>Армения</td>\n",
              "      <td>2020-02-02</td>\n",
              "      <td>2060.0</td>\n",
              "    </tr>\n",
              "    <tr>\n",
              "      <th>4</th>\n",
              "      <td>Спутник V</td>\n",
              "      <td>Вьетнам</td>\n",
              "      <td>2020-02-02</td>\n",
              "      <td>1000.0</td>\n",
              "    </tr>\n",
              "    <tr>\n",
              "      <th>5</th>\n",
              "      <td>Спутник V</td>\n",
              "      <td>Египет</td>\n",
              "      <td>2020-02-02</td>\n",
              "      <td>13680.0</td>\n",
              "    </tr>\n",
              "    <tr>\n",
              "      <th>6</th>\n",
              "      <td>Спутник V</td>\n",
              "      <td>Зимбабве</td>\n",
              "      <td>2020-02-02</td>\n",
              "      <td>50000.0</td>\n",
              "    </tr>\n",
              "    <tr>\n",
              "      <th>7</th>\n",
              "      <td>Спутник V</td>\n",
              "      <td>Киргизия</td>\n",
              "      <td>2020-02-02</td>\n",
              "      <td>5000.0</td>\n",
              "    </tr>\n",
              "    <tr>\n",
              "      <th>8</th>\n",
              "      <td>Спутник V</td>\n",
              "      <td>Молдавия</td>\n",
              "      <td>2020-02-02</td>\n",
              "      <td>172000.0</td>\n",
              "    </tr>\n",
              "    <tr>\n",
              "      <th>9</th>\n",
              "      <td>Спутник V</td>\n",
              "      <td>Никарагуа</td>\n",
              "      <td>2020-02-02</td>\n",
              "      <td>106000.0</td>\n",
              "    </tr>\n",
              "    <tr>\n",
              "      <th>10</th>\n",
              "      <td>Спутник V</td>\n",
              "      <td>Палестина</td>\n",
              "      <td>2020-02-02</td>\n",
              "      <td>30000.0</td>\n",
              "    </tr>\n",
              "    <tr>\n",
              "      <th>11</th>\n",
              "      <td>Спутник V</td>\n",
              "      <td>Таджикистан</td>\n",
              "      <td>2020-02-02</td>\n",
              "      <td>50000.0</td>\n",
              "    </tr>\n",
              "    <tr>\n",
              "      <th>13</th>\n",
              "      <td>Спутник V</td>\n",
              "      <td>Шри-Ланка</td>\n",
              "      <td>2020-02-02</td>\n",
              "      <td>5000.0</td>\n",
              "    </tr>\n",
              "    <tr>\n",
              "      <th>14</th>\n",
              "      <td>Спутник Лайт</td>\n",
              "      <td>Бенин</td>\n",
              "      <td>2020-02-02</td>\n",
              "      <td>100000.0</td>\n",
              "    </tr>\n",
              "    <tr>\n",
              "      <th>15</th>\n",
              "      <td>Спутник Лайт</td>\n",
              "      <td>Вьетнам</td>\n",
              "      <td>2020-02-02</td>\n",
              "      <td>100000.0</td>\n",
              "    </tr>\n",
              "    <tr>\n",
              "      <th>16</th>\n",
              "      <td>Спутник Лайт</td>\n",
              "      <td>Джибути</td>\n",
              "      <td>2020-02-02</td>\n",
              "      <td>100000.0</td>\n",
              "    </tr>\n",
              "    <tr>\n",
              "      <th>17</th>\n",
              "      <td>Спутник Лайт</td>\n",
              "      <td>Киргизия</td>\n",
              "      <td>2020-02-02</td>\n",
              "      <td>200000.0</td>\n",
              "    </tr>\n",
              "    <tr>\n",
              "      <th>18</th>\n",
              "      <td>Спутник Лайт</td>\n",
              "      <td>Лаос</td>\n",
              "      <td>2020-02-02</td>\n",
              "      <td>30000.0</td>\n",
              "    </tr>\n",
              "    <tr>\n",
              "      <th>19</th>\n",
              "      <td>Спутник Лайт</td>\n",
              "      <td>Сирия</td>\n",
              "      <td>2020-02-02</td>\n",
              "      <td>250000.0</td>\n",
              "    </tr>\n",
              "    <tr>\n",
              "      <th>20</th>\n",
              "      <td>Спутник Лайт</td>\n",
              "      <td>Тунис</td>\n",
              "      <td>2020-02-02</td>\n",
              "      <td>100000.0</td>\n",
              "    </tr>\n",
              "    <tr>\n",
              "      <th>21</th>\n",
              "      <td>Спутник Лайт</td>\n",
              "      <td>Турменистан</td>\n",
              "      <td>2020-02-02</td>\n",
              "      <td>10000.0</td>\n",
              "    </tr>\n",
              "    <tr>\n",
              "      <th>22</th>\n",
              "      <td>Спутник Лайт</td>\n",
              "      <td>Украина</td>\n",
              "      <td>2020-02-02</td>\n",
              "      <td>798350.0</td>\n",
              "    </tr>\n",
              "    <tr>\n",
              "      <th>23</th>\n",
              "      <td>ЭпиВакКорона</td>\n",
              "      <td>Белоруссия</td>\n",
              "      <td>2020-02-02</td>\n",
              "      <td>300.0</td>\n",
              "    </tr>\n",
              "  </tbody>\n",
              "</table>\n",
              "</div>\n",
              "      <button class=\"colab-df-convert\" onclick=\"convertToInteractive('df-9a2ec5ce-ada4-4486-b677-7d09c7d350bc')\"\n",
              "              title=\"Convert this dataframe to an interactive table.\"\n",
              "              style=\"display:none;\">\n",
              "        \n",
              "  <svg xmlns=\"http://www.w3.org/2000/svg\" height=\"24px\"viewBox=\"0 0 24 24\"\n",
              "       width=\"24px\">\n",
              "    <path d=\"M0 0h24v24H0V0z\" fill=\"none\"/>\n",
              "    <path d=\"M18.56 5.44l.94 2.06.94-2.06 2.06-.94-2.06-.94-.94-2.06-.94 2.06-2.06.94zm-11 1L8.5 8.5l.94-2.06 2.06-.94-2.06-.94L8.5 2.5l-.94 2.06-2.06.94zm10 10l.94 2.06.94-2.06 2.06-.94-2.06-.94-.94-2.06-.94 2.06-2.06.94z\"/><path d=\"M17.41 7.96l-1.37-1.37c-.4-.4-.92-.59-1.43-.59-.52 0-1.04.2-1.43.59L10.3 9.45l-7.72 7.72c-.78.78-.78 2.05 0 2.83L4 21.41c.39.39.9.59 1.41.59.51 0 1.02-.2 1.41-.59l7.78-7.78 2.81-2.81c.8-.78.8-2.07 0-2.86zM5.41 20L4 18.59l7.72-7.72 1.47 1.35L5.41 20z\"/>\n",
              "  </svg>\n",
              "      </button>\n",
              "      \n",
              "  <style>\n",
              "    .colab-df-container {\n",
              "      display:flex;\n",
              "      flex-wrap:wrap;\n",
              "      gap: 12px;\n",
              "    }\n",
              "\n",
              "    .colab-df-convert {\n",
              "      background-color: #E8F0FE;\n",
              "      border: none;\n",
              "      border-radius: 50%;\n",
              "      cursor: pointer;\n",
              "      display: none;\n",
              "      fill: #1967D2;\n",
              "      height: 32px;\n",
              "      padding: 0 0 0 0;\n",
              "      width: 32px;\n",
              "    }\n",
              "\n",
              "    .colab-df-convert:hover {\n",
              "      background-color: #E2EBFA;\n",
              "      box-shadow: 0px 1px 2px rgba(60, 64, 67, 0.3), 0px 1px 3px 1px rgba(60, 64, 67, 0.15);\n",
              "      fill: #174EA6;\n",
              "    }\n",
              "\n",
              "    [theme=dark] .colab-df-convert {\n",
              "      background-color: #3B4455;\n",
              "      fill: #D2E3FC;\n",
              "    }\n",
              "\n",
              "    [theme=dark] .colab-df-convert:hover {\n",
              "      background-color: #434B5C;\n",
              "      box-shadow: 0px 1px 3px 1px rgba(0, 0, 0, 0.15);\n",
              "      filter: drop-shadow(0px 1px 2px rgba(0, 0, 0, 0.3));\n",
              "      fill: #FFFFFF;\n",
              "    }\n",
              "  </style>\n",
              "\n",
              "      <script>\n",
              "        const buttonEl =\n",
              "          document.querySelector('#df-9a2ec5ce-ada4-4486-b677-7d09c7d350bc button.colab-df-convert');\n",
              "        buttonEl.style.display =\n",
              "          google.colab.kernel.accessAllowed ? 'block' : 'none';\n",
              "\n",
              "        async function convertToInteractive(key) {\n",
              "          const element = document.querySelector('#df-9a2ec5ce-ada4-4486-b677-7d09c7d350bc');\n",
              "          const dataTable =\n",
              "            await google.colab.kernel.invokeFunction('convertToInteractive',\n",
              "                                                     [key], {});\n",
              "          if (!dataTable) return;\n",
              "\n",
              "          const docLinkHtml = 'Like what you see? Visit the ' +\n",
              "            '<a target=\"_blank\" href=https://colab.research.google.com/notebooks/data_table.ipynb>data table notebook</a>'\n",
              "            + ' to learn more about interactive tables.';\n",
              "          element.innerHTML = '';\n",
              "          dataTable['output_type'] = 'display_data';\n",
              "          await google.colab.output.renderOutput(dataTable, element);\n",
              "          const docLink = document.createElement('div');\n",
              "          docLink.innerHTML = docLinkHtml;\n",
              "          element.appendChild(docLink);\n",
              "        }\n",
              "      </script>\n",
              "    </div>\n",
              "  </div>\n",
              "  "
            ],
            "text/plain": [
              "   Марка вакцины       Страна Первая дата поставки  Вакцина (кол-во)\n",
              "0      Спутник V      Абхазия           2020-02-02            2500.0\n",
              "1      Спутник V  Азербайджан           2020-02-02           15000.0\n",
              "2      Спутник V       Ангола           2020-02-02           50000.0\n",
              "3      Спутник V      Армения           2020-02-02            2060.0\n",
              "4      Спутник V      Вьетнам           2020-02-02            1000.0\n",
              "5      Спутник V       Египет           2020-02-02           13680.0\n",
              "6      Спутник V     Зимбабве           2020-02-02           50000.0\n",
              "7      Спутник V     Киргизия           2020-02-02            5000.0\n",
              "8      Спутник V     Молдавия           2020-02-02          172000.0\n",
              "9      Спутник V    Никарагуа           2020-02-02          106000.0\n",
              "10     Спутник V    Палестина           2020-02-02           30000.0\n",
              "11     Спутник V  Таджикистан           2020-02-02           50000.0\n",
              "13     Спутник V    Шри-Ланка           2020-02-02            5000.0\n",
              "14  Спутник Лайт        Бенин           2020-02-02          100000.0\n",
              "15  Спутник Лайт      Вьетнам           2020-02-02          100000.0\n",
              "16  Спутник Лайт      Джибути           2020-02-02          100000.0\n",
              "17  Спутник Лайт     Киргизия           2020-02-02          200000.0\n",
              "18  Спутник Лайт         Лаос           2020-02-02           30000.0\n",
              "19  Спутник Лайт        Сирия           2020-02-02          250000.0\n",
              "20  Спутник Лайт        Тунис           2020-02-02          100000.0\n",
              "21  Спутник Лайт  Турменистан           2020-02-02           10000.0\n",
              "22  Спутник Лайт      Украина           2020-02-02          798350.0\n",
              "23  ЭпиВакКорона   Белоруссия           2020-02-02             300.0"
            ]
          },
          "execution_count": 6,
          "metadata": {},
          "output_type": "execute_result"
        }
      ],
      "source": [
        "dataframe.sort_values(by='Дата поставки/новости', inplace=True)\n",
        "dataframe['Первая дата поставки'] = dataframe['Дата поставки/новости'].min()\n",
        "df = dataframe.groupby(['Марка вакцины', 'Страна','Первая дата поставки'], as_index=False)['Вакцина (кол-во)'].sum()\n",
        "filter = df['Вакцина (кол-во)'] != 0.0\n",
        "df = df[filter]\n",
        "df"
      ]
    },
    {
      "cell_type": "markdown",
      "metadata": {
        "id": "QRGVExzUt8ZA"
      },
      "source": [
        "#### 5. Напишите код для выгрузки полученной таблицы из задания 4 в xlsx так, чтобы лист Excel-файла назывался \"Выгрузка\" и были сохранены заголовки таблицы"
      ]
    },
    {
      "cell_type": "code",
      "execution_count": 7,
      "metadata": {
        "id": "05gieNrpt8ZF"
      },
      "outputs": [],
      "source": [
        "df.to_excel('Вакцины.xlsx', sheet_name='Выгрузка')"
      ]
    },
    {
      "cell_type": "markdown",
      "metadata": {
        "id": "KDDoaGhjt8ZK"
      },
      "source": [
        "#### 6. Достать домены источников 1, 2, 3\n",
        "Для столбцов Источников создать столбцы Доменов, где будет извлечен только домен (источник: https://sputnik-abkhazia.ru/Abkhazia/20200320/..., домен: sputnik-abkhazia.ru). В исходном датасете 3 столбца источника и соответственно должно быть создана 3 столбца с доменами."
      ]
    },
    {
      "cell_type": "code",
      "execution_count": 9,
      "metadata": {
        "id": "dIG7_4vst8ZQ"
      },
      "outputs": [],
      "source": [
        "def domen_only(url):\n",
        "  try:\n",
        "    domen = url.split('/')\n",
        "    return domen[2]\n",
        "  except:\n",
        "    return None\n",
        "\n",
        "dataframe['Домен 1'] = dataframe['Источник 1'].apply(domen_only)\n",
        "dataframe['Домен 2'] = dataframe['Источник 2'].apply(domen_only)\n",
        "dataframe['Домен 3'] = dataframe['Источник 3'].apply(domen_only)\n"
      ]
    }
  ],
  "metadata": {
    "colab": {
      "collapsed_sections": [],
      "provenance": []
    },
    "kernelspec": {
      "display_name": "Python 3.10.5 64-bit",
      "language": "python",
      "name": "python3"
    },
    "language_info": {
      "codemirror_mode": {
        "name": "ipython",
        "version": 3
      },
      "file_extension": ".py",
      "mimetype": "text/x-python",
      "name": "python",
      "nbconvert_exporter": "python",
      "pygments_lexer": "ipython3",
      "version": "3.10.5"
    },
    "vscode": {
      "interpreter": {
        "hash": "fb4569285eef3a3450cb62085a5b1e0da4bce0af555edc33dcf29baf3acc1368"
      }
    }
  },
  "nbformat": 4,
  "nbformat_minor": 0
}
