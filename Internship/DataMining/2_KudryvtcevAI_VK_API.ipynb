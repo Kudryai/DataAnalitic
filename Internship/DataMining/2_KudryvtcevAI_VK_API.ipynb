{
  "nbformat": 4,
  "nbformat_minor": 0,
  "metadata": {
    "colab": {
      "provenance": [],
      "collapsed_sections": [],
      "include_colab_link": true
    },
    "kernelspec": {
      "name": "python3",
      "display_name": "Python 3"
    },
    "language_info": {
      "name": "python"
    }
  },
  "cells": [
    {
      "cell_type": "markdown",
      "metadata": {
        "id": "view-in-github",
        "colab_type": "text"
      },
      "source": [
        "<a href=\"https://colab.research.google.com/github/Kudryai/DataAnalyst/blob/main/2_KudryvtcevAI_VK_API.ipynb\" target=\"_parent\"><img src=\"https://colab.research.google.com/assets/colab-badge.svg\" alt=\"Open In Colab\"/></a>"
      ]
    },
    {
      "cell_type": "markdown",
      "source": [
        "## **Задание 1. Собираем данные с помощью Requests**"
      ],
      "metadata": {
        "id": "zKH9MpmOepks"
      }
    },
    {
      "cell_type": "markdown",
      "source": [
        "С помощью методов API ВКонтакте получите список высших учебных заведений и названия их факультетов в городе Томск.\n",
        "Результат должен быть записан в файл JSON в следующем формате:"
      ],
      "metadata": {
        "id": "MgvkdXgsex5B"
      }
    },
    {
      "cell_type": "markdown",
      "source": [
        "* Решение задания"
      ],
      "metadata": {
        "id": "pSLSqwKR2dGs"
      }
    },
    {
      "cell_type": "code",
      "source": [
        "import requests\n",
        "import json\n",
        "\n",
        "\n",
        "ACCESS_TOKEN = 'Your TOKEN'\n",
        "\n",
        "\n",
        "url = f\"https://api.vk.com/method/database.getCities/\" # Находим город Томск\n",
        "params = {'access_token':ACCESS_TOKEN,\n",
        "          'country_id':1,\n",
        "          'q':'Томск',\n",
        "          'sort':6,\n",
        "          'count':1,\n",
        "          'v':5.131}\n",
        "res = requests.get(url, params=params)\n",
        "res_city = res.json()\n",
        "\n",
        "url = f\"https://api.vk.com/method/database.getUniversities/\" # Находим все университеты Томска\n",
        "params1 = {'access_token':ACCESS_TOKEN,\n",
        "          'country_id':1,\n",
        "          'city_id':144,\n",
        "          'v':5.131}\n",
        "res = requests.get(url, params=params1)\n",
        "res_univer = res.json()\n",
        "\n",
        "if res_city.get('response',''):\n",
        "    city = res_city['response']['items']\n",
        "    univer = res_univer['response']['items']\n",
        "    result = [{\n",
        "            'id': bam['id'],\n",
        "            'name': bam['title'],\n",
        "            'universites': [{\n",
        "                'id':uni['id'],\n",
        "                'name':uni['title'],\n",
        "                'faculties':[{\n",
        "                    'name': facul['title']\n",
        "                }for facul in requests.get('https://api.vk.com/method/database.getFaculties/', \n",
        "                                                       params={'access_token':ACCESS_TOKEN,\n",
        "                                                               'university_id':uni['id'],\n",
        "                                                               'v':5.131}).json()['response']['items']]\n",
        "                } for uni in univer]\n",
        "        } for bam in city]\n",
        "    with open('UniverInfo.json','w') as outfile:\n",
        "        json.dump(result, outfile, ensure_ascii=False, indent=4)\n",
        "else:\n",
        "    print(f'Errors mining data')"
      ],
      "metadata": {
        "id": "5rJQzE_8fSS6"
      },
      "execution_count": null,
      "outputs": []
    },
    {
      "cell_type": "markdown",
      "source": [
        "# **Задание 2. Библиотека VK API**"
      ],
      "metadata": {
        "id": "XslJSFkAe5-5"
      }
    },
    {
      "cell_type": "markdown",
      "source": [
        "Напишите код, который получает список названия школ города Кемерово с помощью библиотеки vk_api и записывает результаты в файл JSON."
      ],
      "metadata": {
        "id": "Fv1R9qMftlt9"
      }
    },
    {
      "cell_type": "code",
      "source": [
        "!pip install vk_api # Установка vk_api"
      ],
      "metadata": {
        "colab": {
          "base_uri": "https://localhost:8080/"
        },
        "id": "XhyFEYUKRLQ3",
        "outputId": "5d3fd8a3-39d7-4566-bd39-921144ad98b5"
      },
      "execution_count": null,
      "outputs": [
        {
          "output_type": "stream",
          "name": "stdout",
          "text": [
            "Looking in indexes: https://pypi.org/simple, https://us-python.pkg.dev/colab-wheels/public/simple/\n",
            "Collecting vk_api\n",
            "  Downloading vk_api-11.9.9-py3-none-any.whl (48 kB)\n",
            "\u001b[K     |████████████████████████████████| 48 kB 4.0 MB/s \n",
            "\u001b[?25hRequirement already satisfied: requests in /usr/local/lib/python3.7/dist-packages (from vk_api) (2.23.0)\n",
            "Requirement already satisfied: idna<3,>=2.5 in /usr/local/lib/python3.7/dist-packages (from requests->vk_api) (2.10)\n",
            "Requirement already satisfied: chardet<4,>=3.0.2 in /usr/local/lib/python3.7/dist-packages (from requests->vk_api) (3.0.4)\n",
            "Requirement already satisfied: certifi>=2017.4.17 in /usr/local/lib/python3.7/dist-packages (from requests->vk_api) (2022.6.15)\n",
            "Requirement already satisfied: urllib3!=1.25.0,!=1.25.1,<1.26,>=1.21.1 in /usr/local/lib/python3.7/dist-packages (from requests->vk_api) (1.24.3)\n",
            "Installing collected packages: vk-api\n",
            "Successfully installed vk-api-11.9.9\n"
          ]
        }
      ]
    },
    {
      "cell_type": "code",
      "source": [
        "import vk_api\n",
        "import csv\n",
        "\n",
        "vk_session = vk_api.VkApi(token=ACCESS_TOKEN)\n",
        "vk = vk_session.get_api()\n",
        "\n",
        "city = vk.database.getCities(country_id=1,q='Кемерово', count=1)\n",
        "city_id = city['items'][0]['id'] if city ['count'] > 0 else None\n",
        "\n",
        "if city_id:\n",
        "        schools = vk.database.getSchools(country_id=1, city_id=city_id)\n",
        "        schools_name = [{'city': cit['title'],\n",
        "                                     'schools':[{'name': sch['title']} for sch in schools['items']]} for cit in city['items']]\n",
        "        with open('SchoolsInfo.json','w') as outfile:\n",
        "          json.dump(schools_name, outfile, ensure_ascii=False, indent=4)\n",
        "\n"
      ],
      "metadata": {
        "id": "AK2dch3xtnpM"
      },
      "execution_count": null,
      "outputs": []
    },
    {
      "cell_type": "markdown",
      "source": [
        "# **Задание 3. Запись данных в CSV формат**"
      ],
      "metadata": {
        "id": "N1UzGf1CtVfa"
      }
    },
    {
      "cell_type": "markdown",
      "source": [
        "С помощью методов API «ВКонтакте» получите 1000 подписчиков группы «Лентач», отсортирванных по дате регистрации.\n",
        "\n",
        "Вам необходимо собрать следующие данные в CSV файл: пол, название город, семейное положение (ФИО партнера не указывать)."
      ],
      "metadata": {
        "id": "Rg-gNSTzfA7R"
      }
    },
    {
      "cell_type": "code",
      "source": [
        "import vk_api\n",
        "import csv\n",
        "\n",
        "\n",
        "vk_session = vk_api.VkApi(token=ACCESS_TOKEN)\n",
        "vk = vk_session.get_api()\n",
        "\n",
        "lnt4 = vk.groups.search(q='Лентач', count=1)\n",
        "lnt4_id = lnt4['items'][0]['id']\n",
        "lnt4_info = vk.groups.getMembers(group_id=lnt4_id, count=1000, fields=['sex', 'city', 'relation'], sort='id_asc')\n",
        "with open('Lenta4_info_users.csv','w',encoding='utf-8') as outfile:\n",
        "            writer = csv.DictWriter(outfile, fieldnames=['sex', 'city' ,'relation'],extrasaction = 'ignore')\n",
        "            writer.writeheader()\n",
        "            for lnt in lnt4_info['items']:\n",
        "              writer.writerow(lnt)\n"
      ],
      "metadata": {
        "id": "eSslPXrGfDRb"
      },
      "execution_count": null,
      "outputs": []
    }
  ]
}