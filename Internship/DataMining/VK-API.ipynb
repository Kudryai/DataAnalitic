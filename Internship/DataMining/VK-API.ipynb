{
 "cells": [
  {
   "cell_type": "code",
   "execution_count": 1,
   "metadata": {},
   "outputs": [],
   "source": [
    "import requests"
   ]
  },
  {
   "cell_type": "code",
   "execution_count": 3,
   "metadata": {},
   "outputs": [
    {
     "name": "stdout",
     "output_type": "stream",
     "text": [
      "{'response': [{'id': 18387693, 'first_name': 'Алексей', 'last_name': 'Кудрявцев', 'can_access_closed': True, 'is_closed': False}]}\n"
     ]
    }
   ],
   "source": [
    "params = {\n",
    "    'access_token': 'vk1.a.IxxEYN6-hrLiZ7xTt5Baz6vgY2HM_L8WzP9KghJbsnB434MAXR89CgSf2JHX3walRW4QBQhaiufCL1H1cvZr815hfYVMWlsz0Ev-mqilFK2qxlQpm1Cd1tyrk9Wtg4YUxQ6bueYuo7IkyAMLYhELha8IRxFdVXZp-CbjWy7OL27S5Pm3edsf_mU5LCLjCWf7',\n",
    "    'v':'5.101',\n",
    "    'user_id': '18387693'\n",
    "}\n",
    "\n",
    "url = 'https://api.vk.com/method/users.get'\n",
    "\n",
    "resp = requests.get(url, params=params)\n",
    "print(resp.json())"
   ]
  },
  {
   "cell_type": "code",
   "execution_count": 28,
   "metadata": {},
   "outputs": [
    {
     "name": "stdout",
     "output_type": "stream",
     "text": [
      "{'Date': 'Mon, 12 Sep 2022 17:18:01 GMT', 'Content-Type': 'application/json', 'Content-Length': '309', 'Connection': 'keep-alive', 'Server': 'gunicorn/19.9.0', 'Access-Control-Allow-Origin': '*', 'Access-Control-Allow-Credentials': 'true'}\n"
     ]
    }
   ],
   "source": [
    "url = 'https://httpbin.org/get'\n",
    "\n",
    "header = {\n",
    "    'User-agent': 'Mozilla/5.0'\n",
    "}\n",
    "\n",
    "resp = requests.get(url)\n",
    "res = {}\n",
    "print(resp.headers)"
   ]
  }
 ],
 "metadata": {
  "kernelspec": {
   "display_name": "Python 3.8.10 ('DataAnalyst-wIS_MoCB')",
   "language": "python",
   "name": "python3"
  },
  "language_info": {
   "codemirror_mode": {
    "name": "ipython",
    "version": 3
   },
   "file_extension": ".py",
   "mimetype": "text/x-python",
   "name": "python",
   "nbconvert_exporter": "python",
   "pygments_lexer": "ipython3",
   "version": "3.8.10"
  },
  "orig_nbformat": 4,
  "vscode": {
   "interpreter": {
    "hash": "815e065539f4ab7f4cb9fa4d608dd43acbb995bdb6b155dac873ea1a3747548c"
   }
  }
 },
 "nbformat": 4,
 "nbformat_minor": 2
}
